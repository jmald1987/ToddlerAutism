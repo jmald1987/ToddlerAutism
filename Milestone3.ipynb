{
 "cells": [
  {
   "cell_type": "code",
   "execution_count": null,
   "id": "72f76144",
   "metadata": {},
   "outputs": [],
   "source": [
    "import pandas as pd\n",
    "import matplotlib.pyplot as plt\n",
    "import seaborn as sns\n",
    "import numpy as np\n",
    "import graphviz\n",
    "from sklearn.model_selection import train_test_split\n",
    "from sklearn.tree import DecisionTreeRegressor\n",
    "from sklearn.tree import export_graphviz\n",
    "from sklearn.metrics import confusion_matrix\n",
    "from sklearn.metrics import mean_squared_error\n",
    "from sklearn.model_selection import train_test_split\n",
    "from sklearn.preprocessing import PolynomialFeatures\n",
    "from sklearn.linear_model import LinearRegression\n",
    "from sklearn.metrics import mean_squared_error\n",
    "from sklearn.tree import plot_tree\n",
    "from sklearn.preprocessing import MinMaxScaler\n",
    "\n",
    "from sklearn.cluster import KMeans\n",
    "\n",
    "from sklearn.metrics import confusion_matrix\n",
    "import statsmodels.formula.api as smf\n",
    "from sklearn.ensemble import RandomForestClassifier\n",
    "from sklearn.neighbors import KNeighborsClassifier\n",
    "%matplotlib inline\n",
    "pd.set_option('display.max_columns', None)\n",
    "autism=pd.read_csv(\"https://raw.githubusercontent.com/jmald1987/ToddlerAutism/main/Toddler%20Autism%20dataset%20July%202018.csv\")\n",
    "autism.head()\n"
   ]
  },
  {
   "cell_type": "code",
   "execution_count": null,
   "id": "abc62bb3",
   "metadata": {},
   "outputs": [],
   "source": [
    "sex=pd.get_dummies(autism, columns=['Sex','Class/ASD Traits ', 'Jaundice' ])\n",
    "sex=sex.drop(columns=['Case_No','A1','A2','A3','A4','A5','A6','A7','A8','A9','A10','Age_Mons','Qchat-10-Score','Jaundice_no','Family_mem_with_ASD','Who completed the test', 'Class/ASD Traits _No'],axis=1)\n",
    "sex\n"
   ]
  },
  {
   "cell_type": "code",
   "execution_count": null,
   "id": "639bee1d",
   "metadata": {
    "scrolled": false
   },
   "outputs": [],
   "source": [
    "male_ethnic=sex.drop(columns=['Sex_f'])\n",
    "male_ethnic\n"
   ]
  },
  {
   "cell_type": "code",
   "execution_count": null,
   "id": "15c4b448",
   "metadata": {
    "scrolled": true
   },
   "outputs": [],
   "source": [
    "ethnic_male=male_ethnic.groupby('Ethnicity').sum()\n",
    "ethnic_male\n"
   ]
  },
  {
   "cell_type": "code",
   "execution_count": null,
   "id": "664a6f17",
   "metadata": {},
   "outputs": [],
   "source": []
  },
  {
   "cell_type": "code",
   "execution_count": null,
   "id": "c710dd0f",
   "metadata": {},
   "outputs": [],
   "source": [
    "ethnic_male_data = {\"Male\":[31,15,3,22,5,240,230,37,108,4,40],\n",
    "                    \"ASD\":[30,20,3,29,7,250,212,39,96,5,37],\n",
    "                    \"Jaundice\":[9,4,2,13,3,124,45,17,50,2,19]}\n",
    "\n",
    "ethnic_male_df = pd.DataFrame(data = ethnic_male_data, index = ['Hispanic','Latino','Native Indian','Others','Pacifica','White European','asian','black',\"middle eastern\",'mixed','south asian'])\n",
    "\n",
    "ethnic_male_df['Male Prob']=ethnic_male_df['Male']/735\n",
    "ethnic_male_df['ASD Prob']=ethnic_male_df['ASD']/728\n",
    "ethnic_male_df['Jaundice Prob']=ethnic_male_df['Jaundice']/288\n",
    "#ethnic_male_df['Prob difference']=np.abs(ethnic_male_df['Male Prob']-ethnic_male_df['ASD Prob'])\n",
    "\n",
    "ethnic_male_df"
   ]
  },
  {
   "cell_type": "code",
   "execution_count": null,
   "id": "c474f96c",
   "metadata": {},
   "outputs": [],
   "source": [
    "prob_male_df=ethnic_male_df.drop(columns=['Male','ASD', 'Jaundice'])\n",
    "prob_male_df"
   ]
  },
  {
   "cell_type": "code",
   "execution_count": null,
   "id": "ee04a1f9",
   "metadata": {},
   "outputs": [],
   "source": [
    "prob_male_df.plot(kind='bar')\n",
    "plt.ylabel('# of toddlers')\n",
    "plt.xlabel('Ethnicity of toddler')"
   ]
  },
  {
   "cell_type": "code",
   "execution_count": null,
   "id": "5dd6ae6c",
   "metadata": {},
   "outputs": [],
   "source": []
  },
  {
   "cell_type": "code",
   "execution_count": null,
   "id": "c660abf9",
   "metadata": {},
   "outputs": [],
   "source": [
    "ethnic= ['Hispanic','Latino','Native Indian','Others','Pacifica','White European','asian','black',\"middle eastern\",'mixed','south asian']\n",
    "male_prob=[0.042177,0.020408,0.004082,0.029932,0.006803,0.326531,0.312925,0.05034,0.146939,0.005442,0.054422]\n",
    "ASD_Prob=[0.041209,0.027473,0.004121,0.039835,0.009615,0.343407,0.291209,0.053571,0.131868,0.006868,0.050824]\n",
    "sample = np.random.choice(ethnic,p = ASD_Prob,size = 2435)\n",
    "sample_probs=pd.Series(sample).value_counts(normalize=True)\n",
    "sample_probs"
   ]
  },
  {
   "cell_type": "code",
   "execution_count": null,
   "id": "dece5b12",
   "metadata": {},
   "outputs": [],
   "source": [
    "prob_male_df[\"Random\"]=sample_probs\n",
    "prob_male_df.plot(kind='bar')\n",
    "plt.ylabel('# of toddlers')\n",
    "plt.xlabel('Ethnicity of toddler')"
   ]
  },
  {
   "cell_type": "code",
   "execution_count": null,
   "id": "ec64cbd2",
   "metadata": {},
   "outputs": [],
   "source": [
    "random_tvd=np.abs(prob_male_df[\"Random\"] - prob_male_df[\"ASD Prob\"]).sum()/2\n",
    "random_tvd"
   ]
  },
  {
   "cell_type": "code",
   "execution_count": null,
   "id": "1f9dcdf0",
   "metadata": {},
   "outputs": [],
   "source": []
  },
  {
   "cell_type": "code",
   "execution_count": null,
   "id": "2e2dec32",
   "metadata": {},
   "outputs": [],
   "source": [
    "random_tvd_list=[]\n",
    "for i in range(2000):\n",
    "    sample = np.random.choice(ethnic,p = ASD_Prob,size = 2435)\n",
    "    sample_probs=pd.Series(sample).value_counts(normalize=True)\n",
    "    prob_male_df[\"Random\"]=sample_probs\n",
    "    random_tvd_node=np.abs(np.abs(prob_male_df[\"Random\"] - prob_male_df[\"ASD Prob\"]).sum()/2)\n",
    "    random_tvd_list.append(random_tvd_node)\n",
    "random_tvd_list"
   ]
  },
  {
   "cell_type": "code",
   "execution_count": null,
   "id": "cf0a4b9e",
   "metadata": {},
   "outputs": [],
   "source": [
    "print(\"The Total Distance Variance from the dataset is\",np.abs(np.abs(prob_male_df[\"Random\"] - prob_male_df[\"ASD Prob\"]).sum()/2))\n",
    "pd.Series(random_tvd_list).hist()\n",
    "plt.xlabel('test stat')\n",
    "plt.ylabel(\"# of random samples\")"
   ]
  }
 ],
 "metadata": {
  "kernelspec": {
   "display_name": "Python 3",
   "language": "python",
   "name": "python3"
  },
  "language_info": {
   "codemirror_mode": {
    "name": "ipython",
    "version": 3
   },
   "file_extension": ".py",
   "mimetype": "text/x-python",
   "name": "python",
   "nbconvert_exporter": "python",
   "pygments_lexer": "ipython3",
   "version": "3.8.8"
  }
 },
 "nbformat": 4,
 "nbformat_minor": 5
}
